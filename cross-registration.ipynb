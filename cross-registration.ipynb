{
 "cells": [
  {
   "cell_type": "markdown",
   "metadata": {},
   "source": [
    "# Setting Up"
   ]
  },
  {
   "cell_type": "markdown",
   "metadata": {},
   "source": [
    "Cross-registration allows the user to register the outcomes of the MiniAn pipeline across multiple experimental sessions.\n",
    "It is a useful add-on to deal with longitudinal experiments. "
   ]
  },
  {
   "cell_type": "markdown",
   "metadata": {},
   "source": [
    "## specify directories and dataset patterns"
   ]
  },
  {
   "cell_type": "markdown",
   "metadata": {},
   "source": [
    "For cross-registration to work, we need to have existing datasets with proper metadata.\n",
    "At the minimum, a dimension `session` should exists on all the datasets.\n",
    "Each dataset can either be a directory of `zarr` arrays (the default output format of `save_minian`), or a single file saved by users.\n",
    "Each dataset should reside in its own directory.\n",
    "\n",
    "Details on the parameters:\n",
    "\n",
    "* `minian_path` points to the path of minian package, which by default is the current folder.\n",
    "* `dpath` is the path containing all the datasets.\n",
    "    It will be traversed recursively to search for datasets.\n",
    "* `f_pattern` is the directory/file name pattern of each dataset.\n",
    "    The program will attempt to load all directories/files matching `f_pattern` under `dpath`.\n",
    "    Note that here our demo data are `netcdf` files that are manually saved.\n",
    "    For the default minian dataset format (directory of `zarr` arrays), `f_pattern = r\"minian$\"` should suffice.\n",
    "* `id_dims` is the name of dimensions that can uniquely identify each dataset.\n",
    "    It should at least contain a `\"session\"` dimension."
   ]
  },
  {
   "cell_type": "code",
   "execution_count": null,
   "metadata": {},
   "outputs": [],
   "source": [
    "import os\n",
    "import sys\n",
    "from termcolor import colored\n",
    "import re\n",
    "minian_path = \".\"\n",
    "\n",
    "\n",
    "session =  r\"C:\\Users\\axelle.piguet\\Documents\\GitHub\\klab_analysis\\Axelle\\nk50\"\n",
    "\n",
    "dpath = os.getenv(\"ANIMAL_PATH\", \"\")\n",
    "if not dpath :\n",
    "    dpath = session\n",
    "\n",
    "print(dpath, file = open(\"CON\", \"w\") )\n"
   ]
  },
  {
   "cell_type": "code",
   "execution_count": null,
   "metadata": {},
   "outputs": [],
   "source": [
    "# sampling frequency parameters \n",
    "fs = 20\n",
    "# Convert frame numbers to seconds\n",
    "in_sec = 1 / fs\n",
    "# Convert frame numbers to milliseconds\n",
    "in_msec = 1000 / fs\n",
    "# Convert frame numbers to minutes\n",
    "in_min = 1 / (fs * 60)"
   ]
  },
  {
   "cell_type": "code",
   "execution_count": null,
   "metadata": {},
   "outputs": [],
   "source": [
    "mouse_name = re.search(r'nk[^\\\\]*', dpath).group(0)\n",
    "\n",
    "f_pattern = fr\"^{mouse_name}_s\"  # replace with what we put in the minian_ds_path in the other notebook\n",
    "f_pattern = r\"result$\"\n",
    "id_dims = [\"session\"]\n",
    "print(dpath)\n",
    "print(f_pattern)\n",
    "print(id_dims)"
   ]
  },
  {
   "cell_type": "markdown",
   "metadata": {},
   "source": [
    "\n",
    "\n",
    "## specify parameters"
   ]
  },
  {
   "cell_type": "markdown",
   "metadata": {},
   "source": [
    "`param_dist` defines the maximal distance between cell centroids (in pixel units) on different sessions to consider them as the same cell.\n",
    "`output_size` controls the scale of visualizations."
   ]
  },
  {
   "cell_type": "code",
   "execution_count": null,
   "metadata": {},
   "outputs": [],
   "source": [
    "param_dist = 5\n",
    "output_size = 100"
   ]
  },
  {
   "cell_type": "markdown",
   "metadata": {},
   "source": [
    "## load modules"
   ]
  },
  {
   "cell_type": "code",
   "execution_count": null,
   "metadata": {},
   "outputs": [],
   "source": [
    "%%capture\n",
    "%load_ext autoreload\n",
    "%autoreload 2\n",
    "import os\n",
    "import sys\n",
    "import warnings\n",
    "import itertools as itt\n",
    "import numpy as np\n",
    "import xarray as xr\n",
    "import holoviews as hv\n",
    "import pandas as pd\n",
    "from holoviews.operation.datashader import datashade, regrid\n",
    "from dask.diagnostics import ProgressBar\n",
    "sys.path.append(minian_path)\n",
    "from minian.cross_registration import (calculate_centroids, calculate_centroid_distance, calculate_mapping,\n",
    "                                       group_by_session, resolve_mapping, fill_mapping)\n",
    "from minian.motion_correction import estimate_motion, apply_transform\n",
    "from minian.utilities import open_minian, open_minian_mf\n",
    "from minian.visualization import AlignViewer"
   ]
  },
  {
   "cell_type": "markdown",
   "metadata": {},
   "source": [
    "## module initialization"
   ]
  },
  {
   "cell_type": "code",
   "execution_count": null,
   "metadata": {},
   "outputs": [],
   "source": [
    "hv.notebook_extension('bokeh', width=100)\n",
    "pbar = ProgressBar(minimum=2)\n",
    "pbar.register()"
   ]
  },
  {
   "cell_type": "markdown",
   "metadata": {},
   "source": [
    "# Allign Videos"
   ]
  },
  {
   "cell_type": "markdown",
   "metadata": {},
   "source": [
    "## open datasets"
   ]
  },
  {
   "cell_type": "markdown",
   "metadata": {},
   "source": [
    "All the metadata defined in `id_dims` will be printed out for each dataset.\n",
    "It is important to make sure all the metadata are correct, otherwise you may get unexpected results.\n",
    "If metadata was not saved correctly, consider putting the datasets into correct hierarchical directory structures and use the `post_process` argument of `open_minian_mf` to correct for metadata.\n",
    "See the main `pipeline.ipynb` and [API reference](https://minian.readthedocs.io/page/api/minian.utilities.html#minian-utilities-open_minian_mf) for more detail."
   ]
  },
  {
   "cell_type": "code",
   "execution_count": null,
   "metadata": {},
   "outputs": [],
   "source": [
    "print(dpath, file = open(\"CON\", \"w\") )\n",
    "print(f_pattern, file = open(\"CON\", \"w\") )\n",
    "print(id_dims, file = open(\"CON\", \"w\") )\n"
   ]
  },
  {
   "cell_type": "code",
   "execution_count": null,
   "metadata": {
    "scrolled": true
   },
   "outputs": [],
   "source": [
    "minian_ds = open_minian_mf(\n",
    "    dpath, id_dims, pattern=f_pattern)"
   ]
  },
  {
   "cell_type": "markdown",
   "metadata": {},
   "source": [
    "## estimate shifts"
   ]
  },
  {
   "cell_type": "markdown",
   "metadata": {},
   "source": [
    "Here we estimate a translational shift along the `session` dimension using the max projection for each dataset.\n",
    "We combine the `shifts`, original templates `temps`, and shifted templates `temps_sh` into a single dataset `shiftds` to use later."
   ]
  },
  {
   "cell_type": "code",
   "execution_count": null,
   "metadata": {},
   "outputs": [],
   "source": [
    "\n",
    "\n",
    "temps = minian_ds['max_proj'].rename('temps')\n",
    "shifts = estimate_motion(temps, dim='session').compute().rename('shifts')\n",
    "temps_sh = apply_transform(temps, shifts).compute().rename('temps_shifted')\n",
    "shiftds = xr.merge([temps, shifts, temps_sh])"
   ]
  },
  {
   "cell_type": "markdown",
   "metadata": {},
   "source": [
    "## visualize alignment"
   ]
  },
  {
   "cell_type": "markdown",
   "metadata": {},
   "source": [
    "We visualize alignment of sessions by plotting the templates before and after the shift for each session."
   ]
  },
  {
   "cell_type": "code",
   "execution_count": null,
   "metadata": {
    "scrolled": true
   },
   "outputs": [],
   "source": [
    "hv.output(size=int(output_size * 0.6))\n",
    "opts_im = {\n",
    "    'aspect': shiftds.sizes['width'] / shiftds.sizes['height'],\n",
    "    'frame_width': 500, 'cmap': 'viridis'}\n",
    "hv_temps = (hv.Dataset(temps).to(hv.Image, kdims=['width', 'height'])\n",
    "            .opts(**opts_im).layout('session').cols(1))\n",
    "hv_temps_sh = (hv.Dataset(temps_sh).to(hv.Image, kdims=['width', 'height'])\n",
    "            .opts(**opts_im).layout('session').cols(1))\n",
    "display(hv_temps + hv_temps_sh)"
   ]
  },
  {
   "cell_type": "markdown",
   "metadata": {},
   "source": [
    "## visualize overlap of field of view across all sessions"
   ]
  },
  {
   "cell_type": "markdown",
   "metadata": {},
   "source": [
    "Since only pixels that are common across all sessions are considered, it is important to sanity-check that this overlap window capture most of our cells."
   ]
  },
  {
   "cell_type": "code",
   "execution_count": null,
   "metadata": {},
   "outputs": [],
   "source": [
    "hv.output(size=int(output_size * 0.6))\n",
    "opts_im = {\n",
    "    'aspect': shiftds.sizes['width'] / shiftds.sizes['height'],\n",
    "    'frame_width': 500, 'cmap': 'viridis'}\n",
    "window = shiftds['temps_shifted'].isnull().sum('session')\n",
    "window, _ = xr.broadcast(window, shiftds['temps_shifted'])\n",
    "hv_wnd = hv.Dataset(window).to(hv.Image, ['width', 'height'])\n",
    "hv_temps = hv.Dataset(temps_sh).to(hv.Image, ['width', 'height'])\n",
    "hv_wnd.opts(**opts_im).relabel(\"Window\") + hv_temps.opts(**opts_im).relabel(\"Shifted Templates\")"
   ]
  },
  {
   "cell_type": "markdown",
   "metadata": {},
   "source": [
    "## apply shifts and set window"
   ]
  },
  {
   "cell_type": "markdown",
   "metadata": {},
   "source": [
    "If the shifts and overlaps all look good, we commit by applying them to the spatial footprints of each session."
   ]
  },
  {
   "cell_type": "code",
   "execution_count": null,
   "metadata": {},
   "outputs": [],
   "source": [
    "minian_ds"
   ]
  },
  {
   "cell_type": "code",
   "execution_count": null,
   "metadata": {},
   "outputs": [],
   "source": [
    "A_shifted = apply_transform(minian_ds['A'].chunk(dict(height=-1, width=-1)), shiftds['shifts'])"
   ]
  },
  {
   "cell_type": "code",
   "execution_count": null,
   "metadata": {},
   "outputs": [],
   "source": [
    "def set_window(wnd):\n",
    "    return wnd == wnd.min()\n",
    "window = xr.apply_ufunc(\n",
    "    set_window,\n",
    "    window,\n",
    "    input_core_dims=[['height', 'width']],\n",
    "    output_core_dims=[['height', 'width']],\n",
    "    vectorize=True)"
   ]
  },
  {
   "cell_type": "markdown",
   "metadata": {},
   "source": [
    "# Cross-session registration"
   ]
  },
  {
   "cell_type": "markdown",
   "metadata": {},
   "source": [
    "## calculate centroids"
   ]
  },
  {
   "cell_type": "markdown",
   "metadata": {},
   "source": [
    "We start by calculating a centroid of spatial footprint for each cell.\n",
    "The centroid location is the only source of information used to register cells across sessions."
   ]
  },
  {
   "cell_type": "code",
   "execution_count": null,
   "metadata": {},
   "outputs": [],
   "source": [
    "%%time\n",
    "cents = calculate_centroids(A_shifted, window)"
   ]
  },
  {
   "cell_type": "markdown",
   "metadata": {},
   "source": [
    "## calculate centroid distance"
   ]
  },
  {
   "cell_type": "markdown",
   "metadata": {},
   "source": [
    "We then calculate pairwise distance between cells in all pairs of sessions.\n",
    "Note that at this stage, since we are computing something along the `session` dimension, it is no longer considered as a metadata dimension, so we remove it."
   ]
  },
  {
   "cell_type": "code",
   "execution_count": null,
   "metadata": {},
   "outputs": [],
   "source": [
    "%%time\n",
    "id_dims.remove(\"session\")\n",
    "dist = calculate_centroid_distance(cents, index_dim=id_dims)"
   ]
  },
  {
   "cell_type": "markdown",
   "metadata": {},
   "source": [
    "## threshold centroid distances"
   ]
  },
  {
   "cell_type": "markdown",
   "metadata": {},
   "source": [
    "We threshold the centroid distances and keep only cell pairs with distance less than `param_dist`."
   ]
  },
  {
   "cell_type": "code",
   "execution_count": null,
   "metadata": {},
   "outputs": [],
   "source": [
    "dist_ft = dist[dist['variable', 'distance'] < param_dist].copy()\n",
    "dist_ft = group_by_session(dist_ft)"
   ]
  },
  {
   "cell_type": "markdown",
   "metadata": {},
   "source": [
    "## generate mappings"
   ]
  },
  {
   "cell_type": "markdown",
   "metadata": {},
   "source": [
    "Finally we generate mapping of cells across session in three steps:\n",
    "\n",
    "1. We filter the pairwise distances into pairwise mappings by applying a mutual nearest-neighbour criteria, using `calculate_mapping`.\n",
    "1. We extend/merge pairwise mappings into multi-session mappings and drop any conficting mappings, using `resolve_mapping`.\n",
    "1. We fill in \"mappings\" that represent cells only appeared in single sessions, using `fill_mapping`.\n",
    "\n",
    "Please see the [API reference](https://minian.readthedocs.io/page/api/minian.cross_registration.html) for more detail on the output dataframe format."
   ]
  },
  {
   "cell_type": "code",
   "execution_count": null,
   "metadata": {},
   "outputs": [],
   "source": [
    "%%time\n",
    "mappings = calculate_mapping(dist_ft)\n",
    "mappings_meta = resolve_mapping(mappings)\n",
    "mappings_meta_fill = fill_mapping(mappings_meta, cents)\n",
    "mappings_meta_fill.head()"
   ]
  },
  {
   "cell_type": "code",
   "execution_count": null,
   "metadata": {},
   "outputs": [],
   "source": [
    "mappings_meta_fill_save = mappings_meta_fill\n"
   ]
  },
  {
   "cell_type": "code",
   "execution_count": null,
   "metadata": {},
   "outputs": [],
   "source": [
    "mappings_meta_fill =mappings_meta_fill_save "
   ]
  },
  {
   "cell_type": "code",
   "execution_count": null,
   "metadata": {},
   "outputs": [],
   "source": [
    "mappings_meta_fill[\"group\"] =mappings_meta_fill[\"group\"].astype(str)\n",
    "mappings_meta_fill = mappings_meta_fill.sort_values(by=(\"group\",\"group\"), ascending = True).reset_index(drop=True)"
   ]
  },
  {
   "cell_type": "raw",
   "metadata": {},
   "source": [
    "# session_names = mappings_meta_fill.session.columns.values\n",
    "num_unit = len(mappings_meta_fill['session', session_names[0]].values)\n",
    "num_session = len(minian_ds['S'].session.values)\n",
    "num_frames = len(minian_ds['S'].frame.values) \n",
    "data = np.empty((num_session,num_unit,num_frames ))\n",
    "data[:] = np.nan\n",
    "\n",
    "\n",
    "for sess in range(num_session ) :\n",
    "    \n",
    "    sess_name = minian_ds['S'].session.values[sess]\n",
    "    non_nan_indices = np.where(~np.isnan(mappings_meta_fill['session', sess_name].values))\n",
    "    old_units = mappings_meta_fill['session', sess_name].values[non_nan_indices]\n",
    "    \n",
    "    data[sess,non_nan_indices ,:] = minian_ds['S'].sel(unit_id = old_units, session = sess_name).values\n",
    "\n",
    "\n",
    "\n",
    "data_arrayS = xr.DataArray(\n",
    "    data,\n",
    "    dims=[ \"session\",  \"new_unitId\", \"frame\"],  # Define dimension names\n",
    "    coords={  # Define coordinates\n",
    "        \"session\": minian_ds['S'].session.values,\n",
    "        \"new_unitId\": np.linspace(1,num_unit, num =num_unit, dtype = int), # rows\n",
    "        \"frame\": minian_ds['S'].frame.values\n",
    "    },\n",
    "    name= minian_ds['S'].animal.values,  # Optional: Name the data array\n",
    ")"
   ]
  },
  {
   "cell_type": "code",
   "execution_count": null,
   "metadata": {},
   "outputs": [],
   "source": [
    "session_names = mappings_meta_fill.session.columns.values\n",
    "num_unit = len(mappings_meta_fill['session', session_names[0]].values)\n",
    "num_session = len(minian_ds['S'].session.values)\n",
    "num_frames = len(minian_ds['S'].frame.values) \n",
    "data = np.empty((num_session,num_unit,num_frames ))\n",
    "data[:] = np.nan\n",
    "\n",
    "ends = []\n",
    "\n",
    "for sess in range(num_session ) :\n",
    "    \n",
    "    sess_name = minian_ds['S'].session.values[sess]\n",
    "    non_nan_indices = np.where(~np.isnan(mappings_meta_fill['session', sess_name].values))\n",
    "    old_units = mappings_meta_fill['session', sess_name].values[non_nan_indices]\n",
    "\n",
    "    data[sess,non_nan_indices ,:] = minian_ds['S'].sel(unit_id = old_units, session = sess_name).values\n",
    "    \n",
    "    end_frame = np.where(~np.isnan(data[sess,non_nan_indices[0][0] ,:]))[0][-1]\n",
    "    ends.append(end_frame)\n",
    "    \n",
    "starts = [0] * num_session\n",
    "\n",
    "\n",
    "\n",
    "data_arrayS = xr.DataArray(\n",
    "    data,\n",
    "    dims=[ \"session\",  \"new_unitId\", \"frame\"],  # Define dimension names\n",
    "    coords={  # Define coordinates\n",
    "        \"session\": minian_ds['S'].session.values,\n",
    "        \"new_unitId\": np.linspace(1,num_unit, num =num_unit, dtype = int), # rows\n",
    "        \"frame\": minian_ds['S'].frame.values\n",
    "    },\n",
    "    name= minian_ds['S'].animal.values,  # Optional: Name the data array\n",
    ")\n",
    "\n",
    "data_arrayS.attrs[\"start_frame\"] =starts\n",
    "data_arrayS.attrs[\"end_frame\"] =ends"
   ]
  },
  {
   "cell_type": "code",
   "execution_count": null,
   "metadata": {},
   "outputs": [],
   "source": [
    "data = np.empty((num_session,num_unit,num_frames ))\n",
    "data[:] = np.nan\n",
    "\n",
    "\n",
    "for sess in range(num_session ) :\n",
    "    \n",
    "    sess_name = minian_ds['C'].session.values[sess];\n",
    "    non_nan_indices = np.where(~np.isnan(mappings_meta_fill['session', sess_name].values))\n",
    "\n",
    "    old_units = mappings_meta_fill['session', sess_name].values[non_nan_indices];\n",
    "    \n",
    "    data[sess,non_nan_indices ,:] = minian_ds['C'].sel(unit_id = old_units, session = sess_name).values\n",
    "\n",
    "\n",
    "\n",
    "data_arrayC = xr.DataArray(\n",
    "    data,\n",
    "    dims=[ \"session\",  \"new_unitId\", \"frame\"],  # Define dimension names\n",
    "    coords={  # Define coordinates\n",
    "        \"session\": minian_ds['C'].session.values,\n",
    "        \"new_unitId\": np.linspace(1,num_unit, num =num_unit, dtype = int), # rows\n",
    "        \"frame\": minian_ds['C'].frame.values\n",
    "    },\n",
    "    name= minian_ds['C'].animal.values,  # Optional: Name the data array\n",
    ")\n",
    "data_arrayC.attrs[\"start_frame\"] =starts\n",
    "data_arrayC.attrs[\"end_frame\"] =ends"
   ]
  },
  {
   "cell_type": "code",
   "execution_count": null,
   "metadata": {},
   "outputs": [],
   "source": [
    "import matplotlib.pyplot as plt\n",
    "plt.figure(figsize=(7, 15)) \n",
    "colors = ['palevioletred', 'purple']\n",
    "\n",
    "begining = data_arrayC.start_frame[0]\n",
    "for sess in range(num_session ) :  \n",
    "    for idx in data_arrayC[\"new_unitId\"].values:\n",
    "        plt.plot(range(begining, begining + data_arrayC.end_frame[sess] ),data_arrayC.sel( new_unitId = idx, session = minian_ds['C'].session.values[sess])[data_arrayC.start_frame[sess]:data_arrayC.end_frame[sess]] + 15*idx,colors[sess%2])\n",
    "    begining = begining + data_arrayC.end_frame[sess] +1\n",
    "            \n",
    "plt.xlabel('Time (min)')\n",
    "plt.ylabel('Units')\n",
    "plt.gca().spines['top'].set_visible(False)  # Hides the top spine\n",
    "plt.gca().spines['right'].set_visible(False)  # Hides the right spine\n",
    "#plt.gca().xaxis.set_ticks([])\n",
    "#plt.gca().set_xticklabels([]) \n",
    "yticks = plt.gca().get_yticks()  # Get current y-axis tick values\n",
    "plt.gca().set_yticklabels([f\"{int(tick /15)}\" for tick in yticks]) \n",
    "xticks = plt.gca().get_xticks()  # Get current y-axis tick values\n",
    "plt.gca().set_xticklabels([f\"{int(tick *in_min)}\" for tick in xticks]) \n",
    "plt.savefig(os.path.join(dpath, \"C.png\"), format=\"png\", dpi=300)"
   ]
  },
  {
   "cell_type": "code",
   "execution_count": null,
   "metadata": {},
   "outputs": [],
   "source": [
    "import matplotlib.pyplot as plt\n",
    "from matplotlib.colors import LinearSegmentedColormap\n",
    "import matplotlib.colors\n",
    "from matplotlib.colors import LogNorm\n",
    "\n",
    "import random\n",
    "\n",
    "colors = ['darkslateblue', 'darkgreen']\n",
    "intercolors = ['slateblue', 'green']\n",
    "\n",
    "\n",
    "\n",
    "fig, ax = plt.subplots()\n",
    "fig.figsize=(15, 25)\n",
    "\n",
    "begining = data_arrayS.start_frame[0]\n",
    "for sess in range(num_session ) :\n",
    "    \n",
    "    #color =  LinearSegmentedColormap.from_list(\"white_to_red\", [\"white\", [random.uniform(0.3, 0.7) for _ in range(3)]])\n",
    "    color =  LinearSegmentedColormap.from_list(\"white_to_red\", [\"grey\", \"black\"])#, intercolors[sess%2], colors[sess%2]])\n",
    "    color =  LinearSegmentedColormap.from_list(\"white_to_black\", [\"white\", [.3,.3,.3] ,[.2,.2,.2],[.1,.1,.1], \"black\"])\n",
    "    ax.imshow(data_arrayS.sel( session = minian_ds['S'].session.values[sess])[:,data_arrayS.start_frame[sess]:data_arrayS.end_frame[sess]], cmap=color, extent=[begining, (begining + data_arrayS.end_frame[sess]) , 0, num_unit], origin='lower', aspect = 'auto')#,norm=LogNorm(vmin=np.nanmin(data_array.values)+0.0001, vmax=np.nanmax(data_array.values)))\n",
    "    \n",
    "    begining = begining + data_arrayS.end_frame[sess] +1\n",
    "    \n",
    "ax.set_xlim(0, begining)\n",
    "plt.xlabel('Time (min)')\n",
    "plt.ylabel('Units')\n",
    "plt.gca().spines['top'].set_visible(False)  # Hides the top spine\n",
    "plt.gca().spines['right'].set_visible(False)  # Hides the right spine\n",
    "\n",
    "xticks = plt.gca().get_xticks()  # Get current y-axis tick values\n",
    "plt.gca().set_xticklabels([f\"{int(tick *in_min)}\" for tick in xticks])\n",
    "plt.savefig(os.path.join(dpath, \"S.png\"), format=\"png\", dpi=300)"
   ]
  },
  {
   "cell_type": "markdown",
   "metadata": {},
   "source": [
    "## visualize mappings"
   ]
  },
  {
   "cell_type": "markdown",
   "metadata": {},
   "source": [
    "We visualize the matching of cells by color-mapping cells 3 arbitrary sessions into RGB channels and plot the overlay image.\n",
    "Please see [API reference](https://minian.readthedocs.io/page/api/minian.visualization.html#minian-visualization-AlignViewer) for more details on the tools available in this visualization."
   ]
  },
  {
   "cell_type": "code",
   "execution_count": null,
   "metadata": {},
   "outputs": [],
   "source": [
    "hv.output(size=int(output_size * 0.7))\n",
    "alnviewer = AlignViewer(minian_ds, cents, mappings_meta_fill, shiftds)\n",
    "alnviewer.show()"
   ]
  },
  {
   "cell_type": "markdown",
   "metadata": {},
   "source": [
    "## save results"
   ]
  },
  {
   "cell_type": "markdown",
   "metadata": {},
   "source": [
    "If everything looks good, we commit by saving the mappings into `pickle` file.\n",
    "Optionally we also save centroids `cents` and `shiftds` in case they come in handy in down-stream analysis."
   ]
  },
  {
   "cell_type": "code",
   "execution_count": null,
   "metadata": {},
   "outputs": [],
   "source": [
    "data_arrayS = data_arrayS.assign_coords(session=[str(s) for s in data_arrayS.coords['session'].values])\n",
    "data_arrayC = data_arrayC.assign_coords(session=[str(s) for s in data_arrayC.coords['session'].values])"
   ]
  },
  {
   "cell_type": "code",
   "execution_count": null,
   "metadata": {},
   "outputs": [],
   "source": [
    "mappings_meta_fill.to_pickle(os.path.join(dpath, \"mappings.pkl\"))\n",
    "cents.to_pickle(os.path.join(dpath, \"cents.pkl\"))\n",
    "shiftds.to_netcdf(os.path.join(dpath, \"shiftds.nc\"))"
   ]
  },
  {
   "cell_type": "code",
   "execution_count": null,
   "metadata": {},
   "outputs": [],
   "source": [
    "data_arrayS.name = \"S_all\"\n",
    "data_arrayC.name = \"C_all\"\n",
    "data_arrayS.to_netcdf(os.path.join(dpath, \"S_allSessions.nc\"))\n",
    "data_arrayC.to_netcdf(os.path.join(dpath, \"C_allSessions.nc\"))"
   ]
  },
  {
   "cell_type": "code",
   "execution_count": null,
   "metadata": {},
   "outputs": [],
   "source": []
  },
  {
   "cell_type": "code",
   "execution_count": null,
   "metadata": {},
   "outputs": [],
   "source": []
  }
 ],
 "metadata": {
  "kernelspec": {
   "display_name": "Python 3 (ipykernel)",
   "language": "python",
   "name": "python3"
  },
  "language_info": {
   "codemirror_mode": {
    "name": "ipython",
    "version": 3
   },
   "file_extension": ".py",
   "mimetype": "text/x-python",
   "name": "python",
   "nbconvert_exporter": "python",
   "pygments_lexer": "ipython3",
   "version": "3.8.15"
  }
 },
 "nbformat": 4,
 "nbformat_minor": 4
}
